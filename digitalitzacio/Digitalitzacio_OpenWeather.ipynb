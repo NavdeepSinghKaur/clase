{
  "nbformat": 4,
  "nbformat_minor": 0,
  "metadata": {
    "colab": {
      "provenance": []
    },
    "kernelspec": {
      "name": "python3",
      "display_name": "Python 3"
    },
    "language_info": {
      "name": "python"
    }
  },
  "cells": [
    {
      "cell_type": "code",
      "execution_count": 1,
      "metadata": {
        "colab": {
          "base_uri": "https://localhost:8080/"
        },
        "id": "aYps64mYgXBn",
        "outputId": "f1aeac0c-0b17-485b-87c9-59ad2d038d84"
      },
      "outputs": [
        {
          "output_type": "stream",
          "name": "stdout",
          "text": [
            "Introdueix el nom de la ciutat: Lleida\n",
            "La temperatura actual a Lleida és de 17.01°C. Núvols dispersos.\n"
          ]
        }
      ],
      "source": [
        "import requests\n",
        "\n",
        "def obtenir_temperatura(ciutat, api_key):\n",
        "    url = f\"https://api.openweathermap.org/data/2.5/weather?q={ciutat}&appid={api_key}&units=metric&lang=ca\"\n",
        "    resposta = requests.get(url)\n",
        "\n",
        "    if resposta.status_code == 200:\n",
        "        dades = resposta.json()\n",
        "        temperatura = dades[\"main\"][\"temp\"]\n",
        "        descripcio = dades[\"weather\"][0][\"description\"]\n",
        "        print(f\"La temperatura actual a {ciutat} és de {temperatura}°C. {descripcio.capitalize()}.\")\n",
        "    else:\n",
        "        print(\"No s'ha pogut obtenir la informació. Comprova el nom de la ciutat o la teva clau API.\")\n",
        "\n",
        "if __name__ == \"__main__\":\n",
        "    API_KEY = \"e35fe686c4abbcbd1e1722549598b25e\"  # Substitueix per la teva clau d'OpenWeatherMap\n",
        "    ciutat = input(\"Introdueix el nom de la ciutat: \")\n",
        "    obtenir_temperatura(ciutat, API_KEY)"
      ]
    },
    {
      "cell_type": "code",
      "source": [
        "import requests\n",
        "\n",
        "def obtenir_previsio(ciutat, api_key, unitats=\"metric\"):\n",
        "    url = f\"https://api.openweathermap.org/data/2.5/forecast?q={ciutat}&appid={api_key}&units={unitats}&lang=ca\"\n",
        "    resposta = requests.get(url)\n",
        "\n",
        "    if resposta.status_code == 200:\n",
        "        dades = resposta.json()\n",
        "        print(f\"Previsió del temps per a {dades['city']['name']}, {dades['city']['country']}:\")\n",
        "        for entrada in dades[\"list\"]:\n",
        "            data_hora = entrada[\"dt_txt\"]\n",
        "            temperatura = entrada[\"main\"][\"temp\"]\n",
        "            print(f\"{data_hora}: {temperatura}°{'C' if unitats == 'metric' else 'F'}\")\n",
        "    else:\n",
        "        print(\"No s'ha pogut obtenir la informació. Comprova el nom de la ciutat o la teva clau API.\")\n",
        "\n",
        "if __name__ == \"__main__\":\n",
        "    API_KEY = \"e35fe686c4abbcbd1e1722549598b25e\"  # Substitueix per la teva clau d'OpenWeatherMap\n",
        "    ciutat = input(\"Introdueix el nom de la ciutat: \")\n",
        "    unitats = input(\"Introdueix les unitats (metric/imperial): \").strip().lower()\n",
        "    if unitats not in [\"metric\", \"imperial\"]:\n",
        "        unitats = \"metric\"  # Per defecte Celsius\n",
        "    obtenir_previsio(ciutat, API_KEY, unitats)"
      ],
      "metadata": {
        "colab": {
          "base_uri": "https://localhost:8080/"
        },
        "id": "58zi7UFDhwtr",
        "outputId": "aac4984e-7cee-4578-9c0f-b644df5ef51d"
      },
      "execution_count": 3,
      "outputs": [
        {
          "output_type": "stream",
          "name": "stdout",
          "text": [
            "Introdueix el nom de la ciutat: Lleida\n",
            "Introdueix les unitats (metric/imperial): metric\n",
            "Previsió del temps per a Lleida, ES:\n",
            "2025-03-12 15:00:00: 16.88°C\n",
            "2025-03-12 18:00:00: 13.78°C\n",
            "2025-03-12 21:00:00: 9.58°C\n",
            "2025-03-13 00:00:00: 8.42°C\n",
            "2025-03-13 03:00:00: 7.08°C\n",
            "2025-03-13 06:00:00: 6.08°C\n",
            "2025-03-13 09:00:00: 9.31°C\n",
            "2025-03-13 12:00:00: 11.59°C\n",
            "2025-03-13 15:00:00: 13.39°C\n",
            "2025-03-13 18:00:00: 9.87°C\n",
            "2025-03-13 21:00:00: 8.72°C\n",
            "2025-03-14 00:00:00: 8.37°C\n",
            "2025-03-14 03:00:00: 8.31°C\n",
            "2025-03-14 06:00:00: 7.1°C\n",
            "2025-03-14 09:00:00: 6.05°C\n",
            "2025-03-14 12:00:00: 6.33°C\n",
            "2025-03-14 15:00:00: 6.34°C\n",
            "2025-03-14 18:00:00: 6.24°C\n",
            "2025-03-14 21:00:00: 5.44°C\n",
            "2025-03-15 00:00:00: 5.78°C\n",
            "2025-03-15 03:00:00: 5.67°C\n",
            "2025-03-15 06:00:00: 4.77°C\n",
            "2025-03-15 09:00:00: 6.49°C\n",
            "2025-03-15 12:00:00: 10.58°C\n",
            "2025-03-15 15:00:00: 12.48°C\n",
            "2025-03-15 18:00:00: 8.31°C\n",
            "2025-03-15 21:00:00: 6.11°C\n",
            "2025-03-16 00:00:00: 4.64°C\n",
            "2025-03-16 03:00:00: 3.42°C\n",
            "2025-03-16 06:00:00: 2.28°C\n",
            "2025-03-16 09:00:00: 6.34°C\n",
            "2025-03-16 12:00:00: 10.82°C\n",
            "2025-03-16 15:00:00: 12.63°C\n",
            "2025-03-16 18:00:00: 8.75°C\n",
            "2025-03-16 21:00:00: 6.93°C\n",
            "2025-03-17 00:00:00: 5.63°C\n",
            "2025-03-17 03:00:00: 3.34°C\n",
            "2025-03-17 06:00:00: 2.14°C\n",
            "2025-03-17 09:00:00: 6.51°C\n",
            "2025-03-17 12:00:00: 10.72°C\n"
          ]
        }
      ]
    }
  ]
}